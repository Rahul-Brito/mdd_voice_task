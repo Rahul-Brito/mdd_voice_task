{
 "cells": [
  {
   "cell_type": "code",
   "execution_count": 1,
   "id": "3b143dd7",
   "metadata": {},
   "outputs": [
    {
     "name": "stderr",
     "output_type": "stream",
     "text": [
      "pixdim[1,2,3] should be non-zero; setting 0 dims to 1\n"
     ]
    }
   ],
   "source": [
    "#Import packages\n",
    "import os\n",
    "import glob\n",
    "import json\n",
    "#from tqdm import tqdm\n",
    "\n",
    "import nilearn\n",
    "import nibabel as nib\n",
    "from nilearn import image as nimg\n",
    "from nilearn import plotting as nplot\n",
    "from nilearn.glm.first_level import FirstLevelModel, make_first_level_design_matrix, run_glm\n",
    "from nilearn.glm import fdr_threshold,threshold_stats_img\n",
    "from nilearn.glm.contrasts import compute_contrast\n",
    "\n",
    "\n",
    "from bids.layout import BIDSLayout, parse_file_entities\n",
    "\n",
    "# import cortex\n",
    "# from cortex import fmriprep\n",
    "\n",
    "from nipype.interfaces.workbench.base import WBCommand\n",
    "from nipype.algorithms import modelgen\n",
    "from nipype.interfaces.base import Bunch\n",
    "\n",
    "import hcp_utils as hcp\n",
    "\n",
    "import numpy as np\n",
    "import pandas as pd\n",
    "import matplotlib.pyplot as plt\n",
    "\n",
    "import statsmodels.api as sm\n",
    "\n",
    "from PIL import Image\n",
    "\n",
    "import first_level_sparse_scanning as flss \n",
    "import importlib\n"
   ]
  },
  {
   "cell_type": "code",
   "execution_count": 90,
   "id": "60678537",
   "metadata": {},
   "outputs": [
    {
     "name": "stdout",
     "output_type": "stream",
     "text": [
      "started sub-voice980_ses-1_task-nwr_rec-unco_run-1\n",
      "finished sub-voice980_ses-1_task-nwr_rec-unco_run-1\n"
     ]
    }
   ],
   "source": [
    "root = '../../derivatives/events_sweep'\n",
    "sub = 'voice980'\n",
    "ses = '1'\n",
    "task = 'nwr'\n",
    "run = '1'\n",
    "out_dir = 'test'\n",
    "\n",
    "original_events_file = f'{root}/sub-{sub}_ses-{ses}_task-{task}_run-0{run}_events.tsv'\n",
    "\n",
    "bids_item = [parse_file_entities(original_events_file)]\n",
    "fmriprep_dir = '../../derivatives/fmriprep'\n",
    "\n",
    "importlib.reload(flss)\n",
    "events = flss.convolve_sparse_scan_glm_with_cifti(bids_item, out_dir)"
   ]
  },
  {
   "cell_type": "code",
   "execution_count": 92,
   "id": "7b7328d0",
   "metadata": {},
   "outputs": [
    {
     "data": {
      "text/plain": [
       "['/nese/mit/group/sig/om_projects/voice/bids/data/sub-voice980/ses-1/func/sub-voice980_ses-1_task-nwr_run-02_events.tsv']"
      ]
     },
     "execution_count": 92,
     "metadata": {},
     "output_type": "execute_result"
    }
   ],
   "source": [
    "events"
   ]
  },
  {
   "cell_type": "code",
   "execution_count": 91,
   "id": "8244a23b",
   "metadata": {},
   "outputs": [
    {
     "name": "stdout",
     "output_type": "stream",
     "text": [
      "fails.txt\r\n",
      "sub-voice980_ses-1_task-nwr_rec-unco_run-1_space-fsLR_den-91k_contrast-spchsil_effect_size.dscalar.nii\r\n",
      "sub-voice980_ses-1_task-nwr_rec-unco_run-1_space-fsLR_den-91k_contrast-spchsil_effect_variance.dscalar.nii\r\n",
      "sub-voice980_ses-1_task-nwr_rec-unco_run-1_space-fsLR_den-91k_contrast-spchsil_z_score.dscalar.nii\r\n"
     ]
    }
   ],
   "source": [
    "!ls test"
   ]
  },
  {
   "cell_type": "code",
   "execution_count": 84,
   "id": "7a546e63",
   "metadata": {},
   "outputs": [],
   "source": [
    "run_order = flss.return_run_order('../../derivatives/fmriprep/', include_manual=True)"
   ]
  },
  {
   "cell_type": "code",
   "execution_count": 86,
   "id": "3cea4355",
   "metadata": {
    "scrolled": false
   },
   "outputs": [
    {
     "data": {
      "text/plain": [
       "{'sub-voice844_task-nwr': ['1', '2', '3'],\n",
       " 'sub-voice844_task-pataka': ['1', '2'],\n",
       " 'sub-voice844_task-emosent': ['1', '2'],\n",
       " 'sub-voice844_task-vowel': ['1', '2'],\n",
       " 'sub-voice846_task-nwr': ['1', '2', '3'],\n",
       " 'sub-voice846_task-pataka': ['1', '2'],\n",
       " 'sub-voice846_task-emosent': ['1', '2'],\n",
       " 'sub-voice846_task-vowel': ['1', '2'],\n",
       " 'sub-voice849_task-nwr': ['1', '2', '3'],\n",
       " 'sub-voice849_task-pataka': ['1', '2'],\n",
       " 'sub-voice849_task-emosent': ['1', '2'],\n",
       " 'sub-voice849_task-vowel': ['1', '2'],\n",
       " 'sub-voice850_task-nwr': ['1', '2', '3'],\n",
       " 'sub-voice850_task-pataka': ['1', '2'],\n",
       " 'sub-voice850_task-emosent': ['1', '2'],\n",
       " 'sub-voice850_task-vowel': ['1', '2'],\n",
       " 'sub-voice852_task-nwr': ['1', '2', '3'],\n",
       " 'sub-voice852_task-pataka': ['1', '2'],\n",
       " 'sub-voice852_task-emosent': ['1', '2'],\n",
       " 'sub-voice852_task-vowel': ['1', '2'],\n",
       " 'sub-voice854_task-nwr': ['1', '2'],\n",
       " 'sub-voice854_task-pataka': ['1', '2'],\n",
       " 'sub-voice854_task-emosent': ['1', '2'],\n",
       " 'sub-voice854_task-vowel': ['1', '3'],\n",
       " 'sub-voice856_task-nwr': ['1', '2', '3'],\n",
       " 'sub-voice856_task-pataka': ['1', '2'],\n",
       " 'sub-voice856_task-emosent': ['1', '2'],\n",
       " 'sub-voice856_task-vowel': ['1', '2'],\n",
       " 'sub-voice857_task-nwr': ['1', '2', '3'],\n",
       " 'sub-voice857_task-pataka': ['1'],\n",
       " 'sub-voice857_task-emosent': ['1', '2'],\n",
       " 'sub-voice857_task-vowel': ['1', '1', '2'],\n",
       " 'sub-voice859_task-nwr': ['1', '2', '3'],\n",
       " 'sub-voice859_task-pataka': [],\n",
       " 'sub-voice859_task-emosent': ['1', '2'],\n",
       " 'sub-voice859_task-vowel': ['1', '2'],\n",
       " 'sub-voice860_task-nwr': ['1', '2', '3'],\n",
       " 'sub-voice860_task-pataka': ['1', '2'],\n",
       " 'sub-voice860_task-emosent': ['1', '2'],\n",
       " 'sub-voice860_task-vowel': ['1', '2'],\n",
       " 'sub-voice862_task-nwr': ['1', '2', '3'],\n",
       " 'sub-voice862_task-pataka': ['1', '2'],\n",
       " 'sub-voice862_task-emosent': ['1', '2'],\n",
       " 'sub-voice862_task-vowel': ['1', '2'],\n",
       " 'sub-voice864_task-nwr': ['1', '2', '3'],\n",
       " 'sub-voice864_task-pataka': ['1', '2'],\n",
       " 'sub-voice864_task-emosent': ['1', '2'],\n",
       " 'sub-voice864_task-vowel': ['1', '2'],\n",
       " 'sub-voice867_task-nwr': ['1', '2', '3'],\n",
       " 'sub-voice867_task-pataka': ['1', '2'],\n",
       " 'sub-voice867_task-emosent': ['1', '2'],\n",
       " 'sub-voice867_task-vowel': ['1', '2'],\n",
       " 'sub-voice872_task-nwr': ['1', '2', '3'],\n",
       " 'sub-voice872_task-pataka': ['1', '2'],\n",
       " 'sub-voice872_task-emosent': ['1', '2'],\n",
       " 'sub-voice872_task-vowel': ['1', '2'],\n",
       " 'sub-voice873_task-nwr': ['1', '2', '3'],\n",
       " 'sub-voice873_task-pataka': ['1', '2'],\n",
       " 'sub-voice873_task-emosent': ['1', '2'],\n",
       " 'sub-voice873_task-vowel': ['1', '2'],\n",
       " 'sub-voice875_task-nwr': ['1', '2', '3'],\n",
       " 'sub-voice875_task-pataka': ['1', '2'],\n",
       " 'sub-voice875_task-emosent': ['1', '2'],\n",
       " 'sub-voice875_task-vowel': ['1', '2'],\n",
       " 'sub-voice877_task-nwr': ['1', '2', '3'],\n",
       " 'sub-voice877_task-pataka': ['1', '1'],\n",
       " 'sub-voice877_task-emosent': ['1', '2'],\n",
       " 'sub-voice877_task-vowel': ['1', '2'],\n",
       " 'sub-voice880_task-nwr': ['1', '2', '3'],\n",
       " 'sub-voice880_task-pataka': ['1', '2'],\n",
       " 'sub-voice880_task-emosent': ['1', '2'],\n",
       " 'sub-voice880_task-vowel': ['1', '2'],\n",
       " 'sub-voice884_task-nwr': ['1', '2', '3'],\n",
       " 'sub-voice884_task-pataka': ['1', '2'],\n",
       " 'sub-voice884_task-emosent': ['1', '2'],\n",
       " 'sub-voice884_task-vowel': ['1', '2'],\n",
       " 'sub-voice886_task-nwr': ['1', '2', '3'],\n",
       " 'sub-voice886_task-pataka': ['1', '2'],\n",
       " 'sub-voice886_task-emosent': ['1', '2'],\n",
       " 'sub-voice886_task-vowel': ['1', '2'],\n",
       " 'sub-voice889_task-nwr': ['1', '2', '3'],\n",
       " 'sub-voice889_task-pataka': ['1', '2'],\n",
       " 'sub-voice889_task-emosent': ['1', '2'],\n",
       " 'sub-voice889_task-vowel': ['1', '2'],\n",
       " 'sub-voice891_task-nwr': ['1', '2', '3'],\n",
       " 'sub-voice891_task-pataka': ['1', '2'],\n",
       " 'sub-voice891_task-emosent': ['1', '2'],\n",
       " 'sub-voice891_task-vowel': ['1', '2'],\n",
       " 'sub-voice893_task-nwr': ['1', '2', '3'],\n",
       " 'sub-voice893_task-pataka': ['1', '2'],\n",
       " 'sub-voice893_task-emosent': ['1', '2'],\n",
       " 'sub-voice893_task-vowel': ['1', '2'],\n",
       " 'sub-voice895_task-nwr': ['1', '2', '3'],\n",
       " 'sub-voice895_task-pataka': ['1', '2'],\n",
       " 'sub-voice895_task-emosent': ['1', '2'],\n",
       " 'sub-voice895_task-vowel': ['1', '2'],\n",
       " 'sub-voice896_task-nwr': ['1', '2', '3'],\n",
       " 'sub-voice896_task-pataka': ['1', '2'],\n",
       " 'sub-voice896_task-emosent': ['1', '2'],\n",
       " 'sub-voice896_task-vowel': ['1', '2'],\n",
       " 'sub-voice897_task-nwr': ['1', '2', '3'],\n",
       " 'sub-voice897_task-pataka': ['1', '1'],\n",
       " 'sub-voice897_task-emosent': ['1', '2'],\n",
       " 'sub-voice897_task-vowel': ['1', '2'],\n",
       " 'sub-voice898_task-nwr': ['1', '2', '3'],\n",
       " 'sub-voice898_task-pataka': ['1', '2'],\n",
       " 'sub-voice898_task-emosent': ['1', '2'],\n",
       " 'sub-voice898_task-vowel': ['1', '2'],\n",
       " 'sub-voice949_task-nwr': ['1', '2', '3'],\n",
       " 'sub-voice949_task-pataka': ['1', '2'],\n",
       " 'sub-voice949_task-emosent': ['1', '2'],\n",
       " 'sub-voice949_task-vowel': ['1', '2'],\n",
       " 'sub-voice950_task-nwr': ['1', '2', '3'],\n",
       " 'sub-voice950_task-pataka': ['1', '2'],\n",
       " 'sub-voice950_task-emosent': ['1', '2'],\n",
       " 'sub-voice950_task-vowel': ['1', '2'],\n",
       " 'sub-voice951_task-nwr': ['1', '2', '3'],\n",
       " 'sub-voice951_task-pataka': ['1', '2'],\n",
       " 'sub-voice951_task-emosent': ['1', '2'],\n",
       " 'sub-voice951_task-vowel': ['1', '2'],\n",
       " 'sub-voice952_task-nwr': ['1', '2', '3'],\n",
       " 'sub-voice952_task-pataka': ['1', '2'],\n",
       " 'sub-voice952_task-emosent': ['1', '2'],\n",
       " 'sub-voice952_task-vowel': ['1', '2'],\n",
       " 'sub-voice953_task-nwr': ['1', '2', '3'],\n",
       " 'sub-voice953_task-pataka': ['1', '2'],\n",
       " 'sub-voice953_task-emosent': ['1', '2'],\n",
       " 'sub-voice953_task-vowel': ['1', '2'],\n",
       " 'sub-voice954_task-nwr': ['1', '2', '3'],\n",
       " 'sub-voice954_task-pataka': ['1', '2'],\n",
       " 'sub-voice954_task-emosent': ['1', '2'],\n",
       " 'sub-voice954_task-vowel': ['1', '2'],\n",
       " 'sub-voice955_task-nwr': ['1', '2', '3'],\n",
       " 'sub-voice955_task-pataka': ['1', '2'],\n",
       " 'sub-voice955_task-emosent': ['1', '2'],\n",
       " 'sub-voice955_task-vowel': ['1', '2'],\n",
       " 'sub-voice956_task-nwr': ['1', '2', '3'],\n",
       " 'sub-voice956_task-pataka': ['1', '2'],\n",
       " 'sub-voice956_task-emosent': ['1', '2'],\n",
       " 'sub-voice956_task-vowel': ['1', '2'],\n",
       " 'sub-voice957_task-nwr': ['1', '2', '3'],\n",
       " 'sub-voice957_task-pataka': ['1', '2'],\n",
       " 'sub-voice957_task-emosent': ['1', '2'],\n",
       " 'sub-voice957_task-vowel': ['1', '2'],\n",
       " 'sub-voice958_task-nwr': ['1', '2', '3'],\n",
       " 'sub-voice958_task-pataka': ['1', '2'],\n",
       " 'sub-voice958_task-emosent': ['1', '2'],\n",
       " 'sub-voice958_task-vowel': ['1', '2'],\n",
       " 'sub-voice960_task-nwr': ['1', '2', '3'],\n",
       " 'sub-voice960_task-pataka': ['1', '2'],\n",
       " 'sub-voice960_task-emosent': ['1', '2'],\n",
       " 'sub-voice960_task-vowel': ['1', '2'],\n",
       " 'sub-voice961_task-nwr': ['1', '2', '3'],\n",
       " 'sub-voice961_task-pataka': ['1', '2'],\n",
       " 'sub-voice961_task-emosent': ['1', '2'],\n",
       " 'sub-voice961_task-vowel': ['1', '2'],\n",
       " 'sub-voice962_task-nwr': ['1', '2', '3'],\n",
       " 'sub-voice962_task-pataka': ['1', '2'],\n",
       " 'sub-voice962_task-emosent': ['1', '2'],\n",
       " 'sub-voice962_task-vowel': ['1', '2'],\n",
       " 'sub-voice963_task-nwr': ['1', '2', '3'],\n",
       " 'sub-voice963_task-pataka': ['1', '2'],\n",
       " 'sub-voice963_task-emosent': ['1', '2'],\n",
       " 'sub-voice963_task-vowel': ['1', '2'],\n",
       " 'sub-voice964_task-nwr': ['1', '2', '3'],\n",
       " 'sub-voice964_task-pataka': ['1', '2'],\n",
       " 'sub-voice964_task-emosent': ['1', '2'],\n",
       " 'sub-voice964_task-vowel': ['1', '2'],\n",
       " 'sub-voice967_task-nwr': [],\n",
       " 'sub-voice967_task-pataka': ['1', '2'],\n",
       " 'sub-voice967_task-emosent': ['1', '2'],\n",
       " 'sub-voice967_task-vowel': ['1', '2'],\n",
       " 'sub-voice968_task-nwr': ['1', '2', '3'],\n",
       " 'sub-voice968_task-pataka': ['1', '2'],\n",
       " 'sub-voice968_task-emosent': ['1', '2'],\n",
       " 'sub-voice968_task-vowel': ['1'],\n",
       " 'sub-voice969_task-nwr': ['1', '2', '3'],\n",
       " 'sub-voice969_task-pataka': ['1', '2'],\n",
       " 'sub-voice969_task-emosent': ['1', '2'],\n",
       " 'sub-voice969_task-vowel': ['1', '2'],\n",
       " 'sub-voice973_task-nwr': [],\n",
       " 'sub-voice973_task-pataka': [],\n",
       " 'sub-voice973_task-emosent': ['1', '2'],\n",
       " 'sub-voice973_task-vowel': ['1', '2'],\n",
       " 'sub-voice974_task-nwr': ['1', '2', '3'],\n",
       " 'sub-voice974_task-pataka': ['1', '2'],\n",
       " 'sub-voice974_task-emosent': ['1', '2'],\n",
       " 'sub-voice974_task-vowel': ['1', '2'],\n",
       " 'sub-voice975_task-nwr': ['1', '2', '3'],\n",
       " 'sub-voice975_task-pataka': ['1', '1'],\n",
       " 'sub-voice975_task-emosent': ['1', '2'],\n",
       " 'sub-voice975_task-vowel': ['1', '2'],\n",
       " 'sub-voice976_task-nwr': ['1', '2'],\n",
       " 'sub-voice976_task-pataka': ['1', '2'],\n",
       " 'sub-voice976_task-emosent': ['1', '2'],\n",
       " 'sub-voice976_task-vowel': ['1', '2'],\n",
       " 'sub-voice978_task-nwr': ['1', '2', '3'],\n",
       " 'sub-voice978_task-pataka': ['1', '2'],\n",
       " 'sub-voice978_task-emosent': ['1', '2'],\n",
       " 'sub-voice978_task-vowel': ['1', '2'],\n",
       " 'sub-voice979_task-nwr': ['1', '2', '3'],\n",
       " 'sub-voice979_task-pataka': ['1', '2'],\n",
       " 'sub-voice979_task-emosent': ['1', '2'],\n",
       " 'sub-voice979_task-vowel': ['1', '2'],\n",
       " 'sub-voice980_task-nwr': ['2', '3', '1'],\n",
       " 'sub-voice980_task-pataka': ['1', '2'],\n",
       " 'sub-voice980_task-emosent': ['1', '2'],\n",
       " 'sub-voice980_task-vowel': ['1', '2'],\n",
       " 'sub-voice981_task-nwr': ['1', '2', '3'],\n",
       " 'sub-voice981_task-pataka': [],\n",
       " 'sub-voice981_task-emosent': ['1', '2'],\n",
       " 'sub-voice981_task-vowel': ['1', '2'],\n",
       " 'sub-voice982_task-nwr': [],\n",
       " 'sub-voice982_task-pataka': ['1', '2'],\n",
       " 'sub-voice982_task-emosent': ['1', '2'],\n",
       " 'sub-voice982_task-vowel': ['1', '2'],\n",
       " 'sub-voice983_task-nwr': [],\n",
       " 'sub-voice983_task-pataka': ['1', '2'],\n",
       " 'sub-voice983_task-emosent': ['1', '2'],\n",
       " 'sub-voice983_task-vowel': ['1', '2'],\n",
       " 'sub-voice984_task-nwr': ['1', '2', '3'],\n",
       " 'sub-voice984_task-pataka': ['1', '2'],\n",
       " 'sub-voice984_task-emosent': ['1', '2'],\n",
       " 'sub-voice984_task-vowel': ['1', '2'],\n",
       " 'sub-voice985_task-pataka': ['1', '2'],\n",
       " 'sub-voice985_task-nwr': ['1', '2', '3']}"
      ]
     },
     "execution_count": 86,
     "metadata": {},
     "output_type": "execute_result"
    }
   ],
   "source": [
    "run_order"
   ]
  },
  {
   "cell_type": "code",
   "execution_count": 12,
   "id": "a582e4c9",
   "metadata": {},
   "outputs": [
    {
     "data": {
      "text/plain": [
       "True"
      ]
     },
     "execution_count": 12,
     "metadata": {},
     "output_type": "execute_result"
    }
   ],
   "source": [
    "sorted(run_order['sub-voice857_task-vowel']) == run_order['sub-voice857_task-vowel']"
   ]
  },
  {
   "cell_type": "code",
   "execution_count": 22,
   "id": "917d682d",
   "metadata": {
    "scrolled": false
   },
   "outputs": [
    {
     "data": {
      "text/plain": [
       "['3', '2', '1']"
      ]
     },
     "execution_count": 22,
     "metadata": {},
     "output_type": "execute_result"
    }
   ],
   "source": [
    "run_order['sub-voice961_task-nwr']"
   ]
  },
  {
   "cell_type": "code",
   "execution_count": 43,
   "id": "d24643f7",
   "metadata": {},
   "outputs": [],
   "source": [
    "s='voice961'\n",
    "ro = {}\n",
    "base = f'/nese/mit/group/sig/om_projects/voice/rawData/{s}'\n",
    "#tasks_included = ['nwr','pataka', 'emosent', 'vowel']\n",
    "tasks_included = ['nwr']\n",
    "\n",
    "for sd in next(os.walk(base))[1]:\n",
    "    if 'behavioral' in os.listdir(base + '/'+ sd):\n",
    "        for task in tasks_included:\n",
    "            psychopy_logs = sorted(glob.glob(f'{base}/{sd}/behavioral/*{task}*.psydat'))\n",
    "            run_numbers = [r.split('_R00')[1].split(f'_{task}')[0] for r in psychopy_logs]\n",
    "            ro[f'sub-{s}_task-{task}'] = run_numbers\n"
   ]
  },
  {
   "cell_type": "code",
   "execution_count": 44,
   "id": "0adf5e44",
   "metadata": {},
   "outputs": [
    {
     "data": {
      "text/plain": [
       "['/nese/mit/group/sig/om_projects/voice/rawData/voice961/session001_visit003/behavioral/20161116190800_voice961b_S001_T003_R001_nwr.psydat',\n",
       " '/nese/mit/group/sig/om_projects/voice/rawData/voice961/session001_visit003/behavioral/20161116191201_voice961b_S001_T003_R002_nwr.psydat',\n",
       " '/nese/mit/group/sig/om_projects/voice/rawData/voice961/session001_visit003/behavioral/20161116191553_voice961b_S001_T003_R003_nwr.psydat']"
      ]
     },
     "execution_count": 44,
     "metadata": {},
     "output_type": "execute_result"
    }
   ],
   "source": [
    "psychopy_logs"
   ]
  },
  {
   "cell_type": "code",
   "execution_count": 35,
   "id": "fb30bcb8",
   "metadata": {},
   "outputs": [
    {
     "data": {
      "text/plain": [
       "[['/nese/mit/group/sig/om_projects/voice/rawData/voice980/session001_visit001/behavioral/20150320140452_voice_ID980_S001_T003_R002_nwr.psydat',\n",
       "  '/nese/mit/group/sig/om_projects/voice/rawData/voice980/session001_visit001/behavioral/20150320140845_voice_ID980_S001_T003_R003_nwr.psydat',\n",
       "  '/nese/mit/group/sig/om_projects/voice/rawData/voice980/session001_visit001/behavioral/20150320145157_voice_ID980_S001_T003_R001_nwr.psydat']]"
      ]
     },
     "execution_count": 35,
     "metadata": {},
     "output_type": "execute_result"
    }
   ],
   "source": [
    "a = [glob.glob(f'{base}/{sd}/behavioral/*{task}*.psydat') for sd in next(os.walk(base))[1]]\n",
    "[sorted(b) for b in a if b]"
   ]
  },
  {
   "cell_type": "code",
   "execution_count": 26,
   "id": "c5c7a18f",
   "metadata": {},
   "outputs": [
    {
     "name": "stdout",
     "output_type": "stream",
     "text": [
      "['/nese/mit/group/sig/om_projects/voice/rawData/voice961/session001_visit003/behavioral/20161116190219_voice961b_S001_T006_R002_vowel.psydat', '/nese/mit/group/sig/om_projects/voice/rawData/voice961/session001_visit003/behavioral/20161116185701_voice961b_S001_T006_R001_vowel.psydat']\n"
     ]
    }
   ],
   "source": [
    "for b in a:\n",
    "    if b:\n",
    "        print(b)"
   ]
  },
  {
   "cell_type": "code",
   "execution_count": null,
   "id": "46c1d175",
   "metadata": {},
   "outputs": [],
   "source": [
    "glob.glob()"
   ]
  },
  {
   "cell_type": "code",
   "execution_count": 19,
   "id": "249f7318",
   "metadata": {},
   "outputs": [
    {
     "data": {
      "text/plain": [
       "'session001_visit003'"
      ]
     },
     "execution_count": 19,
     "metadata": {},
     "output_type": "execute_result"
    }
   ],
   "source": [
    "sd"
   ]
  },
  {
   "cell_type": "code",
   "execution_count": 16,
   "id": "08ca2ebd",
   "metadata": {},
   "outputs": [
    {
     "data": {
      "text/plain": [
       "{'sub-voice961_task-nwr': ['3', '2', '1'],\n",
       " 'sub-voice961_task-pataka': ['1', '2'],\n",
       " 'sub-voice961_task-emosent': ['1', '2'],\n",
       " 'sub-voice961_task-vowel': ['2', '1']}"
      ]
     },
     "execution_count": 16,
     "metadata": {},
     "output_type": "execute_result"
    }
   ],
   "source": [
    "ro"
   ]
  },
  {
   "cell_type": "code",
   "execution_count": null,
   "id": "5014803b",
   "metadata": {},
   "outputs": [],
   "source": []
  },
  {
   "cell_type": "code",
   "execution_count": 22,
   "id": "988cf1de",
   "metadata": {},
   "outputs": [
    {
     "data": {
      "text/plain": [
       "[{'subject': 'voice844',\n",
       "  'session': '1',\n",
       "  'task': 'nwr',\n",
       "  'run': 02,\n",
       "  'suffix': 'events',\n",
       "  'extension': '.tsv'}]"
      ]
     },
     "execution_count": 22,
     "metadata": {},
     "output_type": "execute_result"
    }
   ],
   "source": [
    "bids_item"
   ]
  },
  {
   "cell_type": "code",
   "execution_count": 5,
   "id": "96d4d0ff",
   "metadata": {},
   "outputs": [
    {
     "data": {
      "text/plain": [
       "['/nese/mit/group/sig/om_projects/voice/bids/data/sub-voice844/ses-1/func/sub-voice844_ses-1_task-nwr_run-02_events.tsv']"
      ]
     },
     "execution_count": 5,
     "metadata": {},
     "output_type": "execute_result"
    }
   ],
   "source": [
    "events"
   ]
  },
  {
   "cell_type": "code",
   "execution_count": null,
   "id": "3410ad78",
   "metadata": {},
   "outputs": [],
   "source": [
    "# TR=task_json['RepetitionTime']\n",
    "# DT=task_json['DelayTime']\n",
    "\n",
    "# sparse_model = modelgen.SpecifySparseModel()\n",
    "# sparse_model.inputs.input_units = 'secs'\n",
    "# sparse_model.inputs.functional_runs = nifti\n",
    "# sparse_model.inputs.time_repetition = TR #sets TR to the full window of MRI acq and bold signal [silent+speak]\n",
    "# sparse_model.inputs.time_acquisition = TR - DT # specifies MR acquisition time\n",
    "# sparse_model.inputs.scan_onset = TR - DT #specifies onset since acqusition happens first (is this right)\n",
    "# #sparse_model.inputs.high_pass_filter_cutoff = 128. #satra said to remove\n",
    "# sparse_model.inputs.model_hrf = True\n",
    "# sparse_model.inputs.subject_info = modelgen.bids_gen_info(events,condition_column='trial_type')  # doctest: +SKIP\n",
    "\n",
    "# #potentially could also tack on the noise regressors too here\n",
    "# regressors = sparse_model._list_outputs()['session_info'][0]['regress']\n",
    "# data = [v['val'] for v in regressors]\n",
    "# col = [t['name'] for t in regressors]\n",
    "# df_regressors = pd.DataFrame(data).T\n",
    "# df_regressors.columns = col\n",
    "# df_regressors.index = frame_times"
   ]
  }
 ],
 "metadata": {
  "kernelspec": {
   "display_name": "Python 3 (ipykernel)",
   "language": "python",
   "name": "python3"
  },
  "language_info": {
   "codemirror_mode": {
    "name": "ipython",
    "version": 3
   },
   "file_extension": ".py",
   "mimetype": "text/x-python",
   "name": "python",
   "nbconvert_exporter": "python",
   "pygments_lexer": "ipython3",
   "version": "3.11.0"
  }
 },
 "nbformat": 4,
 "nbformat_minor": 5
}
