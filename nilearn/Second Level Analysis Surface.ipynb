{
 "cells": [
  {
   "cell_type": "code",
   "execution_count": 1,
   "id": "e8420cab",
   "metadata": {},
   "outputs": [
    {
     "name": "stderr",
     "output_type": "stream",
     "text": [
      "pixdim[1,2,3] should be non-zero; setting 0 dims to 1\n"
     ]
    }
   ],
   "source": [
    "#Import packages\n",
    "import os\n",
    "import glob\n",
    "import json\n",
    "import pickle\n",
    "import shutil\n",
    "from pathlib import Path\n",
    "\n",
    "#from tqdm import tqdm\n",
    "\n",
    "import nilearn\n",
    "import nibabel as nib\n",
    "from nibabel import load\n",
    "from nibabel.gifti import GiftiDataArray, GiftiImage\n",
    "\n",
    "from nilearn import image as nimg\n",
    "from nilearn import plotting as nplot\n",
    "from nilearn.glm.first_level import FirstLevelModel, make_first_level_design_matrix, run_glm\n",
    "from nilearn.glm.second_level import make_second_level_design_matrix, SecondLevelModel\n",
    "from nilearn.glm import fdr_threshold,threshold_stats_img\n",
    "from nilearn.glm.contrasts import compute_contrast, _compute_fixed_effects_params\n",
    "from bids.layout import BIDSLayout, parse_file_entities\n",
    "\n",
    "# import cortex\n",
    "# from cortex import fmriprep\n",
    "\n",
    "from nipype.interfaces.workbench.base import WBCommand\n",
    "from nipype.algorithms import modelgen\n",
    "from nipype.interfaces.base import Bunch\n",
    "\n",
    "import scipy.stats as stats\n",
    "\n",
    "import hcp_utils as hcp\n",
    "\n",
    "import numpy as np\n",
    "import pandas as pd\n",
    "import matplotlib.pyplot as plt\n",
    "\n",
    "from PIL import Image\n",
    "#%matplotlib inline\n",
    "#! module load openmind/hcp-workbench/1.2.3"
   ]
  },
  {
   "cell_type": "code",
   "execution_count": 30,
   "id": "9642cb93",
   "metadata": {},
   "outputs": [
    {
     "data": {
      "text/plain": [
       "(96, 389, 389)"
      ]
     },
     "execution_count": 30,
     "metadata": {},
     "output_type": "execute_result"
    }
   ],
   "source": [
    "#take all the first level files and parse out subject, session, and task name, remove repeats \n",
    "\n",
    "first_level_root = f'../../derivatives/first_level_110123'\n",
    "first_level_effects = glob.glob(f'{first_level_root}/*effect_size*.dscalar.nii')\n",
    "effect_variances = glob.glob(f'{first_level_root}/*effect_variance*.dscalar.nii')\n",
    "\n",
    "#load list of runs to exclude and format as a list of bids-compliant names\n",
    "exclude_df = pd.read_table('../../derivatives/first_level_110123/no_wall_of_speech_exclude_110123 - Sheet1.tsv')\n",
    "\n",
    "exclude = []\n",
    "for i, r in exclude_df.iterrows():\n",
    "    sub = r['sub']\n",
    "    ses = r['ses']\n",
    "    task = r.iloc[5]\n",
    "    run = r['run']\n",
    "    exclude.append(f'sub-voice{sub}_ses-{ses}_task-{task}_rec-unco_run-{run}')\n",
    "\n",
    "#remove runs from exclusion list\n",
    "effects_qc = [beta for beta in first_level_effects \n",
    "                      if beta.split('first_level_110123/')[1].split('_space')[0] not in exclude]\n",
    "variance_qc = [beta for beta in effect_variances \n",
    "                      if beta.split('first_level_110123/')[1].split('_space')[0] not in exclude]\n",
    "\n",
    "#get final list of sub/ses/tasks we want after fixed effects pooling\n",
    "sub_ses_task_wdup = [sn.split('first_level_110123/')[1].split('_rec-unco')[0] for sn in effects_qc]\n",
    "sub_ses_task = []\n",
    "[sub_ses_task.append(x) for x in sub_ses_task_wdup if x not in sub_ses_task]\n",
    "task_list = ['nwr','emosent']\n",
    "sub_ses_task = [sst for task in task_list for sst in sub_ses_task  if task in sst]\n",
    "len(sub_ses_task), len(effects_qc), len(variance_qc)"
   ]
  },
  {
   "cell_type": "code",
   "execution_count": 39,
   "id": "84d69f59",
   "metadata": {},
   "outputs": [],
   "source": [
    "out_dir = '../../derivatives/second_level_110123'\n",
    "#second_level_effects = {f:{t: [] for t in task_list} for f in fd_sweep}\n",
    "\n",
    "#task_list = ['pataka', 'emosent', 'vowel', 'nwr']\n",
    "\n",
    "second_level_effects = {t:[] for t in task_list}\n",
    "\n",
    "for sst in sub_ses_task:\n",
    "    effect_size_list = [file for file in effects_qc if sst in file]\n",
    "    effect_var_list = [file for file in variance_qc if sst in file]\n",
    "\n",
    "    if effect_size_list:\n",
    "#         sub = parse_file_entities(effect_size_list[0])['subject'].split('voice')[1]\n",
    "#         ses = parse_file_entities(effect_size_list[0])['session']\n",
    "#         task = parse_file_entities(effect_size_list[0])['task']\n",
    "        if len(effect_size_list) == 1:\n",
    "            shutil.copy(effect_size_list[0], os.path.join(out_dir, str(Path(effect_size_list[0]).relative_to(first_level_root))))\n",
    "            shutil.copy(effect_var_list[0], os.path.join(out_dir, str(Path(effect_var_list[0]).relative_to(first_level_root))))\n",
    "            #second_level_effects[task].append(effect_size_list[0])\n",
    "        elif len(effect_size_list) > 1:                \n",
    "            fx_results = _compute_fixed_effects_params(\n",
    "                np.squeeze(\n",
    "                     [nib.load(fname).get_fdata(dtype='f4') for fname in effect_size_list]\n",
    "                 ),\n",
    "                 np.squeeze(\n",
    "                     [nib.load(fname).get_fdata(dtype='f4') for fname in effect_var_list]\n",
    "                 ),\n",
    "                 precision_weighted=False)\n",
    "            #note the order of fixed effects outputs: fx_results = [fixed_fx_contrast, fixed_fx_variance, fixed_fx_tstat]\n",
    "            save_cifti(fx_results[0], 'effect_size_fx', out_dir, sst + '_rec-unco')\n",
    "            save_cifti(fx_results[1], 'effect_variance_fx', out_dir, sst + '_rec-unco')\n",
    "            save_cifti(fx_results[2], 'stat_fx', out_dir, sst + '_rec-unco')"
   ]
  },
  {
   "cell_type": "code",
   "execution_count": 4,
   "id": "fc69560e",
   "metadata": {},
   "outputs": [],
   "source": [
    "def save_cifti(cifti_data, output_type, out_dir, sstr, sample_cifti_file='../../derivatives/fmriprep/sub-voice857/ses-1/smoothed/sub-voice857_ses-1_task-pataka_run-1_space-fsLR_den-91k_bold.dtseries.nii'):\n",
    "    #takes 91k np array of parcels and generates cifti object\n",
    "    \n",
    "    sample_cifti = nimg.load_img(sample_cifti_file)\n",
    "    time_axis, brain_model_axis = [sample_cifti.header.get_axis(i) for i in range(sample_cifti.ndim)]\n",
    "    z = np.atleast_2d(cifti_data)\n",
    "    scalar_axis = nib.cifti2.ScalarAxis([output_type])  # Takes a list of names, one per row\n",
    "    new_header = nib.Cifti2Header.from_axes([scalar_axis, brain_model_axis])\n",
    "    #z = np.reshape(z, (-1, z.shape[0]))\n",
    "    img = nib.Cifti2Image(z, new_header)\n",
    "\n",
    "    name = f'{out_dir}/{sstr}_space-fsLR_den-91k_contrast-spchsil_{output_type}.dscalar.nii'\n",
    "    img.to_filename(name)\n",
    "    return name"
   ]
  },
  {
   "cell_type": "code",
   "execution_count": 53,
   "id": "6fd3b223",
   "metadata": {},
   "outputs": [],
   "source": [
    "def fixed_effects(contrasts, variances):\n",
    "    \"\"\"Compute the fixed effects given arrays of effects and variance\n",
    "    \"\"\"\n",
    "    tiny = 1.e-16\n",
    "    con, var = np.asarray(contrasts), np.asarray(variances)\n",
    "    var = np.maximum(var, tiny)\n",
    "    prec = 1. / var\n",
    "    ffx_var = 1. / np.sum(prec, 0)\n",
    "    ffx_con = np.sum(con * prec, 0) * ffx_var\n",
    "    ffx_stat = ffx_con / np.sqrt(ffx_var)\n",
    "    return [ffx_con, ffx_var, ffx_stat]"
   ]
  },
  {
   "cell_type": "code",
   "execution_count": null,
   "id": "5d524866",
   "metadata": {},
   "outputs": [],
   "source": [
    "## I generated the fixed effects for everyone, even subjects with only 1 run. So the code to do that is commented out\n",
    "# it should be generated by looping through the right set of files and calculating using the below or similar\n",
    "\n",
    "#if effect_size_list:      \n",
    "#             #this is from this example (https://github.com/individual-brain-charting/public_analysis_code/blob/master/ibc_public/utils_pipeline.py#L556)\n",
    "#             #I did have to to change two lines\n",
    "#             #For example it was con.append(np.ravel([darrays.data for darrays in load(con_img).darrays]))\n",
    "#             #which I changed to con.append(np.ravel([darrays for darrays in load(con_img).get_fdata()]))\n",
    "#             #and it seemed to work so I didn't question further\n",
    "#             con, var = [], []\n",
    "#             for (con_img, var_img) in zip(effect_size_list, effect_variance_list):\n",
    "#                 con.append(np.ravel([\n",
    "#                     darrays for darrays in load(con_img).get_fdata()]))\n",
    "#                 var.append(np.ravel([\n",
    "#                     darrays for darrays in load(var_img).get_fdata()]))\n",
    "\n",
    "#             #This method is from the above link. It could be replaced by an implementation copied from fitlins\n",
    "#             #e.g.:https://github.com/poldracklab/fitlins/blob/ec655c7ec71d92cc81141467bdb44e2bcc253425/fitlins/interfaces/nistats.py#L409-L432\n",
    "#             #But I haven't compared them yet\n",
    "#             contrast_output = fixed_effects(con, var)\n",
    "\n",
    "#             #check that output does not exist\n",
    "#             output = glob.glob(f'{out_dir}/second_level/sub-{sub}_ses-{ses}_task-{task}_effect_size_fx.dscalar.nii')\n",
    "#             if output: #checks if list is not empty\n",
    "#                 print(f'At least partial 1st level output exists for subject {sub}, session {ses} and task {task}. This must be deleted for before generating new output.')\n",
    "\n",
    "\n",
    "#             #save contrast maps to files\n",
    "#             #note the order of fixed effects outputs: fx_results = [fixed_fx_contrast, fixed_fx_variance, fixed_fx_tstat]\n",
    "#             generate_zscore_cifti_object(contrast_output[0], f'{out_dir}/sub-{sub}_ses-{ses}_task-{task}_effect_size_fx.dscalar.nii')\n",
    "#             generate_zscore_cifti_object(contrast_output[1],f'{out_dir}/sub-{sub}_ses-{ses}_task-{task}_effect_variance_fx.dscalar.nii')\n",
    "#             generate_zscore_cifti_object(contrast_output[2], f'{out_dir}/sub-{sub}_ses-{ses}_task-{task}_stat_fx.dscalar.nii')\n",
    "#             print(f'{sub} {task} {ses}: processing done')"
   ]
  },
  {
   "cell_type": "code",
   "execution_count": null,
   "id": "cff1a297",
   "metadata": {},
   "outputs": [],
   "source": []
  },
  {
   "cell_type": "code",
   "execution_count": null,
   "id": "3217b983",
   "metadata": {},
   "outputs": [],
   "source": []
  },
  {
   "cell_type": "code",
   "execution_count": null,
   "id": "5add084d",
   "metadata": {},
   "outputs": [],
   "source": []
  },
  {
   "cell_type": "code",
   "execution_count": 50,
   "id": "ce23edbd",
   "metadata": {},
   "outputs": [],
   "source": [
    "#Save list of runs used for group analysis into one file.\n",
    "with open(\"second_level_effects_wos_qc\", \"wb\") as fp:   #Pickling\n",
    "    pickle.dump(second_level_effects, fp)"
   ]
  },
  {
   "cell_type": "code",
   "execution_count": null,
   "id": "cd4c3b82",
   "metadata": {},
   "outputs": [],
   "source": []
  },
  {
   "cell_type": "code",
   "execution_count": null,
   "id": "70a7e845",
   "metadata": {},
   "outputs": [],
   "source": []
  },
  {
   "cell_type": "code",
   "execution_count": null,
   "id": "760db050",
   "metadata": {},
   "outputs": [],
   "source": []
  },
  {
   "cell_type": "code",
   "execution_count": 5,
   "id": "576088c5",
   "metadata": {},
   "outputs": [
    {
     "data": {
      "text/plain": [
       "{0.2: 91, 0.4: 261, 0.6: 366}"
      ]
     },
     "execution_count": 5,
     "metadata": {},
     "output_type": "execute_result"
    }
   ],
   "source": [
    "# first_level_betas = glob.glob(f'../../derivatives/first_level/speech_v_silence_effects_size/*_fsLR_91k_speechvssilence_effect_size.dscalar.nii')\n",
    "\n",
    "# #creates dict of runs from first level model based on being below an FD threshold\n",
    "# low_motion = {}\n",
    "# for fd in fd_sweep:\n",
    "#     inclusion = qc_csv.bids_name[qc_csv.fd_mean <= fd]\n",
    "#     inclusion = [i.split('_bold')[0] for i in inclusion]\n",
    "#     low_motion[fd] = [beta for beta in first_level_betas \n",
    "#                   if beta.split('speech_v_silence_effects_size/')[1].split('_fsLR')[0] in inclusion]\n",
    "# {f:len(files) for f, files in low_motion.items()}"
   ]
  },
  {
   "cell_type": "code",
   "execution_count": 367,
   "id": "78815d61",
   "metadata": {},
   "outputs": [],
   "source": [
    "#looks at dict of low-motion runs per FD cutoff\n",
    "#if a subject/session/task just has one run, we just use the first-level run\n",
    "#if a subject/session/task has more than one run, the paths are stored to be combined using fixed effects\n",
    "\n",
    "# out_dir = '../../derivatives/second_level'\n",
    "# second_level_effects = {f:{t: [] for t in task_list} for f in fd_sweep}\n",
    "\n",
    "# for fd, lm in low_motion.items():\n",
    "#     for sub in sub_ses_task:\n",
    "#         effect_size_list = [file for file in lm if sub in file]\n",
    "        \n",
    "#         if effect_size_list:\n",
    "#             sub = parse_file_entities(effect_size_list[0])['subject'].split('voice')[1]\n",
    "#             ses = parse_file_entities(effect_size_list[0])['session']\n",
    "#             task = parse_file_entities(effect_size_list[0])['task']\n",
    "\n",
    "#             if len(effect_size_list) == 1:\n",
    "#                 second_level_effects[fd][task].append(effect_size_list[0])\n",
    "#             elif len(effect_size_list) > 1:\n",
    "#                 second_level_effects[fd][task].append(\n",
    "#                     f'{out_dir}/sub-{sub}_ses-{ses}_task-{task}_effect_size_fx.dscalar.nii')\n"
   ]
  },
  {
   "cell_type": "code",
   "execution_count": 368,
   "id": "c34d097f",
   "metadata": {},
   "outputs": [
    {
     "data": {
      "text/html": [
       "<div>\n",
       "<style scoped>\n",
       "    .dataframe tbody tr th:only-of-type {\n",
       "        vertical-align: middle;\n",
       "    }\n",
       "\n",
       "    .dataframe tbody tr th {\n",
       "        vertical-align: top;\n",
       "    }\n",
       "\n",
       "    .dataframe thead th {\n",
       "        text-align: right;\n",
       "    }\n",
       "</style>\n",
       "<table border=\"1\" class=\"dataframe\">\n",
       "  <thead>\n",
       "    <tr style=\"text-align: right;\">\n",
       "      <th></th>\n",
       "      <th>0.2</th>\n",
       "      <th>0.4</th>\n",
       "      <th>0.6</th>\n",
       "    </tr>\n",
       "  </thead>\n",
       "  <tbody>\n",
       "    <tr>\n",
       "      <th>vowel</th>\n",
       "      <td>6</td>\n",
       "      <td>27</td>\n",
       "      <td>38</td>\n",
       "    </tr>\n",
       "    <tr>\n",
       "      <th>nwr</th>\n",
       "      <td>25</td>\n",
       "      <td>47</td>\n",
       "      <td>50</td>\n",
       "    </tr>\n",
       "    <tr>\n",
       "      <th>emosent</th>\n",
       "      <td>13</td>\n",
       "      <td>36</td>\n",
       "      <td>47</td>\n",
       "    </tr>\n",
       "    <tr>\n",
       "      <th>pataka</th>\n",
       "      <td>5</td>\n",
       "      <td>26</td>\n",
       "      <td>47</td>\n",
       "    </tr>\n",
       "  </tbody>\n",
       "</table>\n",
       "</div>"
      ],
      "text/plain": [
       "         0.2  0.4  0.6\n",
       "vowel      6   27   38\n",
       "nwr       25   47   50\n",
       "emosent   13   36   47\n",
       "pataka     5   26   47"
      ]
     },
     "execution_count": 368,
     "metadata": {},
     "output_type": "execute_result"
    }
   ],
   "source": [
    "#create a per task/FD cutoff count of the number of runs\n",
    "#this number should (?) increase as cutoff increaes less conservative\n",
    "# pd.DataFrame({t:{fd: len(val) for fd, val in files.items()} for t, files in second_level_effects.items()})"
   ]
  },
  {
   "cell_type": "code",
   "execution_count": 369,
   "id": "f4d5c655",
   "metadata": {},
   "outputs": [],
   "source": [
    "# #Save list of runs used for group analysis into one file.\n",
    "# with open(\"second_level_effects_FD_sweep\", \"wb\") as fp:   #Pickling\n",
    "#     pickle.dump(second_level_effects, fp)"
   ]
  },
  {
   "cell_type": "code",
   "execution_count": 23,
   "id": "362df3e5",
   "metadata": {},
   "outputs": [],
   "source": [
    "# #tests we can open and use the data as expected\n",
    "# with open(\"second_level_effects\", \"rb\") as fp:   # Unpickling\n",
    "#     b = pickle.load(fp)"
   ]
  },
  {
   "cell_type": "code",
   "execution_count": null,
   "id": "9835c0ab",
   "metadata": {},
   "outputs": [],
   "source": []
  },
  {
   "cell_type": "code",
   "execution_count": null,
   "id": "10c43c62",
   "metadata": {},
   "outputs": [],
   "source": []
  },
  {
   "cell_type": "code",
   "execution_count": 7,
   "id": "c5cf6227",
   "metadata": {},
   "outputs": [
    {
     "data": {
      "image/png": "[encoded data removed]",
      "text/plain": [
       "<Figure size 640x480 with 1 Axes>"
      ]
     },
     "metadata": {},
     "output_type": "display_data"
    },
    {
     "data": {
      "image/png": "[encoded data removed]",
      "text/plain": [
       "<Figure size 640x480 with 1 Axes>"
      ]
     },
     "metadata": {},
     "output_type": "display_data"
    },
    {
     "data": {
      "image/png": "[encoded data removed]",
      "text/plain": [
       "<Figure size 640x480 with 1 Axes>"
      ]
     },
     "metadata": {},
     "output_type": "display_data"
    },
    {
     "data": {
      "image/png": "[encoded data removed]",
      "text/plain": [
       "<Figure size 640x480 with 1 Axes>"
      ]
     },
     "metadata": {},
     "output_type": "display_data"
    }
   ],
   "source": [
    "#quantifying number of files per task per cutoff\n",
    "\n",
    "task_list = ['vowel', 'nwr', 'emosent','pataka']\n",
    "qc_relevant_tasks = qc_csv[qc_csv.task.isin(task_list)]\n",
    "\n",
    "for t, d in qc_relevant_tasks.groupby('task'):\n",
    "    count = {round(fd, 1):d[d.fd_mean<=fd].shape[0] for fd in fd_sweep}\n",
    "    \n",
    "    plt.hist(d.fd_mean, bins=100\n",
    "            )\n",
    "    plt.xlim([0, 1])\n",
    "    xcoords = [0.2, 0.4, 0.6]\n",
    "    for xc in xcoords:\n",
    "        plt.axvline(x=xc, color='k')\n",
    "    plt.title(f'{t}, with {count}')\n",
    "    plt.show()"
   ]
  }
 ],
 "metadata": {
  "kernelspec": {
   "display_name": "Python 3 (ipykernel)",
   "language": "python",
   "name": "python3"
  },
  "language_info": {
   "codemirror_mode": {
    "name": "ipython",
    "version": 3
   },
   "file_extension": ".py",
   "mimetype": "text/x-python",
   "name": "python",
   "nbconvert_exporter": "python",
   "pygments_lexer": "ipython3",
   "version": "3.11.0"
  }
 },
 "nbformat": 4,
 "nbformat_minor": 5
}
