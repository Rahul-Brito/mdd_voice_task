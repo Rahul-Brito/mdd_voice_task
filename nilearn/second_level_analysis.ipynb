{
 "cells": [
  {
   "cell_type": "code",
   "execution_count": 1,
   "id": "899fdc45",
   "metadata": {},
   "outputs": [
    {
     "name": "stderr",
     "output_type": "stream",
     "text": [
      "/om2/user/dclb/.miniconda/envs/nilearn_older_v/lib/python3.9/site-packages/nilearn/glm/__init__.py:55: FutureWarning: The nilearn.glm module is experimental. It may change in any future release of Nilearn.\n",
      "  warn('The nilearn.glm module is experimental. '\n"
     ]
    }
   ],
   "source": [
    "import os\n",
    "import pandas as pd\n",
    "import numpy as np\n",
    "import glob\n",
    "import json\n",
    "import nibabel \n",
    "import nilearn\n",
    "from nilearn.glm.contrasts import compute_fixed_effects\n",
    "from nilearn.masking import intersect_masks\n",
    "import matplotlib.pyplot as plt"
   ]
  },
  {
   "cell_type": "code",
   "execution_count": 2,
   "id": "f733d397",
   "metadata": {},
   "outputs": [],
   "source": [
    "#function to run second level fixed effects model to combine runs\n",
    "\n",
    "def run_second_level_model(sub,task,ses):\n",
    "    memory = './nilearn_cache' #change if desired\n",
    "    space='MNI152NLin6Asym' #change if desired\n",
    "    \n",
    "    #grab masks needed from the two runs (could be run1 and run2, or run1 and run3 or run2 and run3)\n",
    "    masks = glob.glob(f'../../../derivatives/ses-{ses}/sub-{sub}/ses-{ses}/func/sub-{sub}*task-{task}*rec-unco*run-*{space}*brain_mask.nii.gz')\n",
    "    \n",
    "    #make intersection of the two masks\n",
    "    #threshold=1 corresponds to keeping the intersection of all masks, whereas threshold=0 is the union of all masks\n",
    "    mask = intersect_masks(masks, threshold=1, connected=True)\n",
    "\n",
    "        \n",
    "    #check that both runs exist for a sub, task, ses\n",
    "    #TO DO: technically should also check that the events.tsv exists for them for cleanest check\n",
    "    if len(masks) == 1:\n",
    "        print(f'Only one run exists for subject {sub}, task {task} and session {ses}. Second level analysis not possible.')\n",
    "        return\n",
    "\n",
    "    \n",
    "    #find all contrasts for the two runs\n",
    "    effect_size_list=glob.glob(f'../../../derivatives/nilearn/first_level/sub-{sub}/ses-{ses}/task-{task}/sub-{sub}_ses-{ses}_task-{task}_rec-unco_run-*_contrast-*_effect_size.nii.gz')\n",
    "        \n",
    "    #create contrast to effect size path directory\n",
    "    effect_size_dict={}\n",
    "    for path in effect_size_list:\n",
    "        contrast = path.split('contrast-')[-1].split('_effect')[0]\n",
    "        if contrast not in effect_size_dict.keys():\n",
    "            effect_size_dict[contrast]=[]\n",
    "        effect_size_dict[contrast].append(path)\n",
    "        \n",
    "        \n",
    "    #do fixed effects analysis of all available contrasts \n",
    "    output_dict={}\n",
    "    for contrast in effect_size_dict.keys():\n",
    "        effect_size_list = effect_size_dict[contrast]\n",
    "        #check if it was possible to calculate a given contrast for both runs\n",
    "        #if not, skip this contrast\n",
    "        if len(effect_size_list) < 2:\n",
    "            print(f'Only one {contrast} contrast for {sub} during {task} in {ses}. Second level analysis not possible.')\n",
    "            continue\n",
    "        effect_variance_list=glob.glob(f'../../../derivatives/nilearn/first_level/sub-{sub}/ses-{ses}/task-{task}/sub-{sub}_ses-{ses}_task-{task}_rec-unco_run-*_contrast-{contrast}*_effect_variance.nii.gz')\n",
    "        \n",
    "        #TO DO: figure out meaning of precision weighted\n",
    "        #note that results are made up of these: fx_results = [fixed_fx_contrast, fixed_fx_variance, fixed_fx_tstat]\n",
    "        fx_results = compute_fixed_effects(effect_size_list, effect_variance_list, mask, precision_weighted=False)\n",
    "\n",
    "        output_dict[contrast]=fx_results\n",
    "    \n",
    "    \n",
    "    return output_dict"
   ]
  },
  {
   "cell_type": "code",
   "execution_count": 3,
   "id": "c12ee226",
   "metadata": {},
   "outputs": [],
   "source": [
    "def save_second_level_outputs(sub,task,ses):\n",
    "    print(f'Now processing subject {sub} for task {task} in session {ses}')\n",
    "    output_dict = run_second_level_model(sub,task,ses)\n",
    "    \n",
    "    \n",
    "    #check that output does not exist\n",
    "    output = glob.glob(f'../../../derivatives/nilearn/second_level/sub-{sub}/ses-{ses}/task-{task}/sub-{sub}_ses-{ses}_task-{task}_rec-unco_contrast-*_effect_size_fx.nii.gz')\n",
    "    if output: #checks if list is not empty\n",
    "        print(f'At least partial 1st level output exists for subject {sub}, session {ses} and task {task}. This must be deleted for before generating new output.')\n",
    "        return \n",
    "    \n",
    "    \n",
    "    for contrast in output_dict.keys():\n",
    "        #calculate contrast maps for all contrasts\n",
    "        contrast_output = output_dict[contrast]\n",
    "        \n",
    "        #create paths to output dir if not exist\n",
    "        derivatives_path = '../../../derivatives'\n",
    "        nilearn_output_path = os.path.join(derivatives_path, 'nilearn','second_level',f'sub-{sub}',f'ses-{ses}',f'task-{task}')\n",
    "        if not os.path.isdir(nilearn_output_path):\n",
    "            os.makedirs (nilearn_output_path)\n",
    "            \n",
    "        #save contrast maps to files\n",
    "        #note the order of fixed effects outputs: fx_results = [fixed_fx_contrast, fixed_fx_variance, fixed_fx_tstat]\n",
    "        contrast_output[0].to_filename(f'../../../derivatives/nilearn/second_level/sub-{sub}/ses-{ses}/task-{task}/sub-{sub}_ses-{ses}_task-{task}_rec-unco_contrast-{contrast}_effect_size_fx.nii.gz')\n",
    "        contrast_output[1].to_filename(f'../../../derivatives/nilearn/second_level/sub-{sub}/ses-{ses}/task-{task}/sub-{sub}_ses-{ses}_task-{task}_rec-unco_contrast-{contrast}_effect_variance_fx.nii.gz')\n",
    "        contrast_output[2].to_filename(f'../../../derivatives/nilearn/second_level/sub-{sub}/ses-{ses}/task-{task}/sub-{sub}_ses-{ses}_task-{task}_rec-unco_contrast-{contrast}_stat_fx.nii.gz')\n",
    "    print(f'{sub} {task} {ses}: processing done')\n",
    "        "
   ]
  },
  {
   "cell_type": "code",
   "execution_count": 4,
   "id": "e3e4890d",
   "metadata": {},
   "outputs": [
    {
     "name": "stdout",
     "output_type": "stream",
     "text": [
      "Now processing subject MM240 for task mid in session 1year\n",
      "MM240 mid 1year: processing done\n"
     ]
    }
   ],
   "source": [
    "#select runs, tasks and sessions to process\n",
    "#task_list=['sst','mid']\n",
    "task_list=['mid'] #since sst contrast isn't finalized\n",
    "#ses_list=['baseline','1year']\n",
    "\n",
    "ses_list=['1year']\n",
    "\n",
    "\n",
    "for task in task_list:\n",
    "    for ses in ses_list:\n",
    "      \n",
    "        space='MNI152NLin6Asym' #change if desired\n",
    "        \n",
    "        #find all subjects who have task niftis for this task, session\n",
    "        masks = glob.glob(f'../../../derivatives/ses-{ses}/sub-*/ses-{ses}/func/sub-*task-{task}*rec-unco*run-*{space}*brain_mask.nii.gz')\n",
    "        subjs = list(set([path.split(f'/ses-{ses}/')[1].split('-')[-1] for path in masks]))\n",
    "        \n",
    "        \n",
    "        for sub in subjs:\n",
    "            \n",
    "            if sub == 'MM240': #file damaged in ses 1year -- redid 1st level, so trying again\n",
    "            #if 'HC' in sub:\n",
    "            #TO DO: this will become input to the script\n",
    "                save_second_level_outputs(sub,task,ses)\n",
    "\n"
   ]
  },
  {
   "cell_type": "code",
   "execution_count": null,
   "id": "408788db",
   "metadata": {},
   "outputs": [],
   "source": []
  }
 ],
 "metadata": {
  "kernelspec": {
   "display_name": "Python 3 (ipykernel)",
   "language": "python",
   "name": "python3"
  },
  "language_info": {
   "codemirror_mode": {
    "name": "ipython",
    "version": 3
   },
   "file_extension": ".py",
   "mimetype": "text/x-python",
   "name": "python",
   "nbconvert_exporter": "python",
   "pygments_lexer": "ipython3",
   "version": "3.11.0"
  }
 },
 "nbformat": 4,
 "nbformat_minor": 5
}
