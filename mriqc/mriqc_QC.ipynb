{
 "cells": [
  {
   "cell_type": "code",
   "execution_count": 1,
   "id": "8d529e4c-4ff6-4cfb-8d49-c91cdc54b70d",
   "metadata": {},
   "outputs": [],
   "source": [
    "#CLEAN\n",
    "import nilearn\n",
    "from nilearn import plotting\n",
    "import seaborn\n",
    "import matplotlib.pyplot as plt\n",
    "import numpy as np\n",
    "import pandas as pd\n",
    "import glob\n",
    "import json"
   ]
  },
  {
   "cell_type": "code",
   "execution_count": 2,
   "id": "7cf1774f-69c0-4f8d-9abf-07aae70bad7b",
   "metadata": {},
   "outputs": [
    {
     "name": "stdout",
     "output_type": "stream",
     "text": [
      "/rdma/vast-rdma/scratch/Sat/dclb/code/jupyterlab\n"
     ]
    }
   ],
   "source": [
    "#needed if in /home/dclb to change current work directory to scratch\n",
    "%cd \"../../om2/scratch/Sat/dclb/code/jupyterlab/\""
   ]
  },
  {
   "cell_type": "code",
   "execution_count": 3,
   "id": "3a860f82-fba0-4040-87e8-f48faa4361b8",
   "metadata": {},
   "outputs": [],
   "source": [
    "nback_mriqc_paths = glob.glob(\"../../derivatives/mriqc/sub-*/ses-*/func/sub-*_ses-*_task-nback_rec-moco_run-01_bold.json\")\n",
    "\n",
    "MM_baseline_dict={}\n",
    "MM_1year_dict={}\n",
    "HC_baseline_dict={}\n",
    "\n",
    "for path in nback_mriqc_paths:\n",
    "    sub = path.split(\"/\")[4].split('-')[1]\n",
    "    ses = path.split(\"/\")[5].split('-')[1]\n",
    "    f = open(path)\n",
    "    data = json.load(f)\n",
    "    fd_perc = data['fd_perc']\n",
    "    if 'baseline' in ses:\n",
    "        if 'MM' in sub:\n",
    "            MM_baseline_dict[sub]=fd_perc\n",
    "        else:\n",
    "            HC_baseline_dict[sub]=fd_perc\n",
    "    else:\n",
    "        MM_1year_dict[sub]=fd_perc\n",
    "        \n",
    "MM_baseline_df = pd.DataFrame(list(MM_baseline_dict.items()), columns=['Subject', 'fd_perc'])\n",
    "MM_1year_df = pd.DataFrame(list(MM_1year_dict.items()), columns=['Subject', 'fd_perc'])\n",
    "HC_baseline_df = pd.DataFrame(list(HC_baseline_dict.items()), columns=['Subject', 'fd_perc'])"
   ]
  },
  {
   "cell_type": "code",
   "execution_count": 4,
   "id": "6ccbcab1-1540-49a0-810f-dff3c1942e77",
   "metadata": {},
   "outputs": [
    {
     "data": {
      "image/png": "[encoded data removed]",
      "text/plain": [
       "<Figure size 720x360 with 3 Axes>"
      ]
     },
     "metadata": {
      "needs_background": "light"
     },
     "output_type": "display_data"
    }
   ],
   "source": [
    "#CLEAN\n",
    "\n",
    "df_list = [MM_baseline_df,MM_1year_df,HC_baseline_df]\n",
    "df_names_list = [\"MM_baseline\",\"MM_1year\",\"HC_baseline\"]\n",
    "\n",
    "red_circle = dict(markerfacecolor='red', marker='o', markeredgecolor='white')\n",
    "fig, axs = plt.subplots(1, 3, figsize=(10,5))\n",
    "\n",
    "for i, ax in enumerate(axs.flat):\n",
    "    df = df_list[i]\n",
    "    ax.boxplot(df[\"fd_perc\"],flierprops=red_circle)\n",
    "    ax.set_title(df_names_list[i], fontsize=15, fontweight='bold')\n",
    "    ax.tick_params(axis='y', labelsize=14)\n",
    "    ax.set_ylim(0, 50)\n",
    "    ax.axhline(y=40, c=\"blue\",linewidth=1,zorder=0)\n",
    "\n",
    "plt.tight_layout()"
   ]
  },
  {
   "cell_type": "code",
   "execution_count": 5,
   "id": "2f4a6777-8589-4cf7-8042-aab1d456b4e0",
   "metadata": {},
   "outputs": [
    {
     "data": {
      "text/html": [
       "<div>\n",
       "<style scoped>\n",
       "    .dataframe tbody tr th:only-of-type {\n",
       "        vertical-align: middle;\n",
       "    }\n",
       "\n",
       "    .dataframe tbody tr th {\n",
       "        vertical-align: top;\n",
       "    }\n",
       "\n",
       "    .dataframe thead th {\n",
       "        text-align: right;\n",
       "    }\n",
       "</style>\n",
       "<table border=\"1\" class=\"dataframe\">\n",
       "  <thead>\n",
       "    <tr style=\"text-align: right;\">\n",
       "      <th></th>\n",
       "      <th>Subject</th>\n",
       "      <th>fd_perc</th>\n",
       "    </tr>\n",
       "  </thead>\n",
       "  <tbody>\n",
       "    <tr>\n",
       "      <th>3</th>\n",
       "      <td>MM131</td>\n",
       "      <td>47.122302</td>\n",
       "    </tr>\n",
       "  </tbody>\n",
       "</table>\n",
       "</div>"
      ],
      "text/plain": [
       "  Subject    fd_perc\n",
       "3   MM131  47.122302"
      ]
     },
     "metadata": {},
     "output_type": "display_data"
    },
    {
     "data": {
      "text/html": [
       "<div>\n",
       "<style scoped>\n",
       "    .dataframe tbody tr th:only-of-type {\n",
       "        vertical-align: middle;\n",
       "    }\n",
       "\n",
       "    .dataframe tbody tr th {\n",
       "        vertical-align: top;\n",
       "    }\n",
       "\n",
       "    .dataframe thead th {\n",
       "        text-align: right;\n",
       "    }\n",
       "</style>\n",
       "<table border=\"1\" class=\"dataframe\">\n",
       "  <thead>\n",
       "    <tr style=\"text-align: right;\">\n",
       "      <th></th>\n",
       "      <th>Subject</th>\n",
       "      <th>fd_perc</th>\n",
       "    </tr>\n",
       "  </thead>\n",
       "  <tbody>\n",
       "    <tr>\n",
       "      <th>0</th>\n",
       "      <td>MM014</td>\n",
       "      <td>46.402878</td>\n",
       "    </tr>\n",
       "  </tbody>\n",
       "</table>\n",
       "</div>"
      ],
      "text/plain": [
       "  Subject    fd_perc\n",
       "0   MM014  46.402878"
      ]
     },
     "metadata": {},
     "output_type": "display_data"
    },
    {
     "data": {
      "text/html": [
       "<div>\n",
       "<style scoped>\n",
       "    .dataframe tbody tr th:only-of-type {\n",
       "        vertical-align: middle;\n",
       "    }\n",
       "\n",
       "    .dataframe tbody tr th {\n",
       "        vertical-align: top;\n",
       "    }\n",
       "\n",
       "    .dataframe thead th {\n",
       "        text-align: right;\n",
       "    }\n",
       "</style>\n",
       "<table border=\"1\" class=\"dataframe\">\n",
       "  <thead>\n",
       "    <tr style=\"text-align: right;\">\n",
       "      <th></th>\n",
       "      <th>Subject</th>\n",
       "      <th>fd_perc</th>\n",
       "    </tr>\n",
       "  </thead>\n",
       "  <tbody>\n",
       "  </tbody>\n",
       "</table>\n",
       "</div>"
      ],
      "text/plain": [
       "Empty DataFrame\n",
       "Columns: [Subject, fd_perc]\n",
       "Index: []"
      ]
     },
     "metadata": {},
     "output_type": "display_data"
    }
   ],
   "source": [
    "#CLEAN\n",
    "\n",
    "MM_baseline_sub_df = MM_baseline_df.loc[MM_baseline_df['fd_perc'] >40].sort_values('fd_perc',ascending=False)\n",
    "MM_1year_sub_df = MM_1year_df.loc[MM_1year_df['fd_perc'] >40].sort_values('fd_perc',ascending=False)\n",
    "HC_baseline_sub_df = HC_baseline_df.loc[HC_baseline_df['fd_perc'] >40].sort_values('fd_perc',ascending=False)\n",
    "\n",
    "sub_df_list=[MM_baseline_sub_df,MM_1year_sub_df,HC_baseline_sub_df]\n",
    "\n",
    "display(MM_baseline_sub_df)\n",
    "display(MM_1year_sub_df)\n",
    "display(HC_baseline_sub_df)"
   ]
  },
  {
   "cell_type": "code",
   "execution_count": 6,
   "id": "67d193d6-a285-4c90-912d-77ffaf2700f2",
   "metadata": {},
   "outputs": [
    {
     "data": {
      "text/html": [
       "<div>\n",
       "<style scoped>\n",
       "    .dataframe tbody tr th:only-of-type {\n",
       "        vertical-align: middle;\n",
       "    }\n",
       "\n",
       "    .dataframe tbody tr th {\n",
       "        vertical-align: top;\n",
       "    }\n",
       "\n",
       "    .dataframe thead th {\n",
       "        text-align: right;\n",
       "    }\n",
       "</style>\n",
       "<table border=\"1\" class=\"dataframe\">\n",
       "  <thead>\n",
       "    <tr style=\"text-align: right;\">\n",
       "      <th></th>\n",
       "      <th>MM_baseline</th>\n",
       "      <th>MM_1year</th>\n",
       "      <th>HC_baseline</th>\n",
       "      <th>Total</th>\n",
       "    </tr>\n",
       "  </thead>\n",
       "  <tbody>\n",
       "    <tr>\n",
       "      <th>0</th>\n",
       "      <td>1</td>\n",
       "      <td>1</td>\n",
       "      <td>0</td>\n",
       "      <td>2</td>\n",
       "    </tr>\n",
       "    <tr>\n",
       "      <th>1</th>\n",
       "      <td>0.016949</td>\n",
       "      <td>0.017241</td>\n",
       "      <td>0.0</td>\n",
       "      <td>0.013423</td>\n",
       "    </tr>\n",
       "  </tbody>\n",
       "</table>\n",
       "</div>"
      ],
      "text/plain": [
       "  MM_baseline  MM_1year HC_baseline     Total\n",
       "0           1         1           0         2\n",
       "1    0.016949  0.017241         0.0  0.013423"
      ]
     },
     "metadata": {},
     "output_type": "display_data"
    }
   ],
   "source": [
    "#CLEAN\n",
    "\n",
    "new_df_names_list=df_names_list.copy()\n",
    "new_df_names_list.append('Total')\n",
    "\n",
    "exclude_df = pd.DataFrame(index=range(0,2),columns=new_df_names_list)\n",
    "\n",
    "total_sub_count=0\n",
    "total_count=0\n",
    "\n",
    "for i in range(0,3):\n",
    "    exclude_df.iloc[0,i]=int(len(sub_df_list[i]))\n",
    "    exclude_df.iloc[1,i]=len(sub_df_list[i])/len(df_list[i])\n",
    "    total_sub_count+=int(len(sub_df_list[i]))\n",
    "    total_count+=len(df_list[i])\n",
    "\n",
    "exclude_df.iloc[0,3] = total_sub_count\n",
    "exclude_df.iloc[1,3] = total_sub_count/total_count\n",
    "\n",
    "display(exclude_df)"
   ]
  }
 ],
 "metadata": {
  "kernelspec": {
   "display_name": "Python 3 (ipykernel)",
   "language": "python",
   "name": "python3"
  },
  "language_info": {
   "codemirror_mode": {
    "name": "ipython",
    "version": 3
   },
   "file_extension": ".py",
   "mimetype": "text/x-python",
   "name": "python",
   "nbconvert_exporter": "python",
   "pygments_lexer": "ipython3",
   "version": "3.10.4"
  }
 },
 "nbformat": 4,
 "nbformat_minor": 5
}
